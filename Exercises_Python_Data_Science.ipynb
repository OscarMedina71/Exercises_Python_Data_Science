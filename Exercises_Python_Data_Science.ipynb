{
 "cells": [
  {
   "cell_type": "code",
   "execution_count": 24,
   "id": "9faa61a7-8df0-4ecd-8729-e2fae9629efc",
   "metadata": {},
   "outputs": [],
   "source": [
    "#EJERCICIO 1.CONTEO DE VOTOS. Dada una lista con votos para diferentes candidatos, dar un ranking con el total de votos para cada candidato\n",
    "# y mencionar al candidato ganador."
   ]
  },
  {
   "cell_type": "code",
   "execution_count": 25,
   "id": "a071b903-9e58-4a33-8d23-c943fba29e4e",
   "metadata": {},
   "outputs": [],
   "source": [
    "from collections import Counter"
   ]
  },
  {
   "cell_type": "code",
   "execution_count": 26,
   "id": "7ffceabe-9644-4086-91ff-f919bb24ef19",
   "metadata": {},
   "outputs": [],
   "source": [
    "votos = ['A', 'B', 'A', \"C\", 'A', \"B\", \"B\", \"C\", 'A', 'C']"
   ]
  },
  {
   "cell_type": "code",
   "execution_count": 27,
   "id": "126c639c-e0cf-430c-ab9f-539e8790065a",
   "metadata": {},
   "outputs": [],
   "source": [
    "ranking = Counter(votos)"
   ]
  },
  {
   "cell_type": "code",
   "execution_count": 28,
   "id": "e3d4e164-e80a-4e3e-9904-8ca61dcd13c9",
   "metadata": {},
   "outputs": [],
   "source": [
    "ganador = max(ranking,key=ranking.get)"
   ]
  },
  {
   "cell_type": "code",
   "execution_count": 29,
   "id": "9ac9c422-ecb8-4fbc-af57-47936c0aab49",
   "metadata": {},
   "outputs": [],
   "source": [
    "votos_finales =(sorted(ranking.items(), key=lambda x: x[1], reverse=True))"
   ]
  },
  {
   "cell_type": "code",
   "execution_count": 31,
   "id": "751d5404-93ea-419b-ba46-130d7dae7ff2",
   "metadata": {},
   "outputs": [
    {
     "name": "stdout",
     "output_type": "stream",
     "text": [
      "El candidato ganador es: A\n",
      "Ranking:\n",
      "A: 4 votos\n",
      "B: 3 votos\n",
      "C: 3 votos\n"
     ]
    }
   ],
   "source": [
    "print(\"El candidato ganador es:\",ganador)\n",
    "print(\"Ranking:\")\n",
    "for candidato, votos in votos_finales:\n",
    "    print(f\"{candidato}: {votos} votos\")"
   ]
  },
  {
   "cell_type": "code",
   "execution_count": null,
   "id": "8e076199-0af9-4303-95ae-380917229bd8",
   "metadata": {},
   "outputs": [],
   "source": []
  },
  {
   "cell_type": "code",
   "execution_count": null,
   "id": "9d279067-3985-467b-942f-871011b707be",
   "metadata": {},
   "outputs": [],
   "source": [
    "#EJERCICIO 2. TRANSFORMACIÓN DE REGISTROS. A partir de un diccionario que contiene, nombre, edad y sexo de 3 personas, extraer cada "
   ]
  },
  {
   "cell_type": "code",
   "execution_count": null,
   "id": "8251cf3f-8082-461b-8948-8ff5d009f8cb",
   "metadata": {},
   "outputs": [],
   "source": [
    "# persona con su edad y sexo respectivo y regresar cada uno como diccionario."
   ]
  },
  {
   "cell_type": "code",
   "execution_count": 1,
   "id": "66cd5b6f-48e4-42a7-b0a1-b70273215ffd",
   "metadata": {},
   "outputs": [],
   "source": [
    "data = [\"Juan,23,M\", \"Ana,22,F\", \"Luis,24,M\"]"
   ]
  },
  {
   "cell_type": "code",
   "execution_count": 2,
   "id": "cf5a40ed-abc5-48c2-844b-ad5170474219",
   "metadata": {},
   "outputs": [],
   "source": [
    "personas = []"
   ]
  },
  {
   "cell_type": "code",
   "execution_count": 3,
   "id": "f0bdd20e-2b06-4c20-91ca-7cb307201a40",
   "metadata": {},
   "outputs": [],
   "source": [
    "for person in data:\n",
    "    nombre, edad, sexo= person.split(sep=\",\",maxsplit=-1)\n",
    "    persona={\"Nombre\":nombre,\n",
    "             \"Edad\": edad,\n",
    "             \"Sexo\": sexo\n",
    "    }\n",
    "    personas.append(persona)"
   ]
  },
  {
   "cell_type": "code",
   "execution_count": 4,
   "id": "2473b9c0-577c-44dc-94a1-a9618cf6539a",
   "metadata": {},
   "outputs": [
    {
     "name": "stdout",
     "output_type": "stream",
     "text": [
      "[{'Nombre': 'Juan', 'Edad': '23', 'Sexo': 'M'}, {'Nombre': 'Ana', 'Edad': '22', 'Sexo': 'F'}, {'Nombre': 'Luis', 'Edad': '24', 'Sexo': 'M'}]\n"
     ]
    }
   ],
   "source": [
    "print (personas)"
   ]
  },
  {
   "cell_type": "code",
   "execution_count": null,
   "id": "a891ec06-f8df-414b-8efb-6c1453d345f0",
   "metadata": {},
   "outputs": [],
   "source": []
  },
  {
   "cell_type": "code",
   "execution_count": null,
   "id": "df6808e8-202b-41ca-9a30-08da522b7764",
   "metadata": {},
   "outputs": [],
   "source": [
    "#EJERCICIO 3. NORMALIZACIÓN DE VALORES. Dada una lista normalizar los valores entre 0 y 1 e imprimir los resultados."
   ]
  },
  {
   "cell_type": "code",
   "execution_count": 5,
   "id": "c678b482-f310-45c8-8832-08808acfd168",
   "metadata": {},
   "outputs": [],
   "source": [
    "valores = [120, 150, 200, 80, 95]"
   ]
  },
  {
   "cell_type": "code",
   "execution_count": 6,
   "id": "5856eda9-81c6-4b1f-9a0f-2da1af1d9baa",
   "metadata": {},
   "outputs": [],
   "source": [
    "valor_max = max(valores)\n",
    "valor_min = min(valores)"
   ]
  },
  {
   "cell_type": "code",
   "execution_count": 7,
   "id": "e289dd98-77d4-4913-b357-0cd67d3e4ff9",
   "metadata": {},
   "outputs": [],
   "source": [
    "new_list = sorted(valores)"
   ]
  },
  {
   "cell_type": "code",
   "execution_count": 8,
   "id": "bf4cf942-9b08-4c1c-bc80-716c17450aec",
   "metadata": {},
   "outputs": [],
   "source": [
    "results= []"
   ]
  },
  {
   "cell_type": "code",
   "execution_count": 9,
   "id": "b8b91313-4bcb-4b06-b884-d1b8dd56dfe7",
   "metadata": {},
   "outputs": [],
   "source": [
    "for item in new_list:\n",
    "    result=(item-valor_min)/(valor_max-valor_min)\n",
    "    results.append(round(result,3))"
   ]
  },
  {
   "cell_type": "code",
   "execution_count": 10,
   "id": "0e1ced2f-0961-4f63-ac13-7ee1526c0678",
   "metadata": {},
   "outputs": [
    {
     "name": "stdout",
     "output_type": "stream",
     "text": [
      "[0.0, 0.125, 0.333, 0.583, 1.0]\n"
     ]
    }
   ],
   "source": [
    "print(results)"
   ]
  },
  {
   "cell_type": "code",
   "execution_count": null,
   "id": "64c46c91-3740-4dc3-ad2b-d2667cfc29ad",
   "metadata": {},
   "outputs": [],
   "source": []
  },
  {
   "cell_type": "code",
   "execution_count": null,
   "id": "e7950fb9-e51b-40dc-82b0-60a2d9fc2b77",
   "metadata": {},
   "outputs": [],
   "source": [
    "#EJERCICIO 4. ANÁLISIS DE PALABRAS FRECUENTES. A partir de un string, contar las veces que aparecen cada palabra en el string y ordenarlas"
   ]
  },
  {
   "cell_type": "code",
   "execution_count": null,
   "id": "00d523bf-9589-497d-82cc-782e48872a77",
   "metadata": {},
   "outputs": [],
   "source": [
    "# de mayor a menor en un diccionario en minúsculas."
   ]
  },
  {
   "cell_type": "code",
   "execution_count": 6,
   "id": "d5bcaa4e-8ff3-4877-8c37-4c6f5fb5634b",
   "metadata": {},
   "outputs": [],
   "source": [
    "from collections import Counter"
   ]
  },
  {
   "cell_type": "code",
   "execution_count": 7,
   "id": "4474e03e-c67b-4b17-880f-2f91252fdd39",
   "metadata": {},
   "outputs": [],
   "source": [
    "texto = \"Python es fácil de aprender. Python es poderoso. Python es popular.\""
   ]
  },
  {
   "cell_type": "code",
   "execution_count": 8,
   "id": "4954d446-2b70-44ff-827d-256369c8f1f1",
   "metadata": {},
   "outputs": [
    {
     "name": "stdout",
     "output_type": "stream",
     "text": [
      "Counter({'python': 3, 'es': 3, 'fácil': 1, 'de': 1, 'aprender.': 1, 'poderoso.': 1, 'popular.': 1})\n"
     ]
    }
   ],
   "source": [
    "palabras = texto.lower().split()\n",
    "\n",
    "conteo = Counter(palabras)\n",
    "print(conteo)"
   ]
  },
  {
   "cell_type": "code",
   "execution_count": 4,
   "id": "8557376e-f7cc-43f3-813f-6983a5babebc",
   "metadata": {},
   "outputs": [],
   "source": []
  },
  {
   "cell_type": "code",
   "execution_count": 92,
   "id": "9eb6250e-7f52-4e07-9e6e-f01d8254a4dc",
   "metadata": {},
   "outputs": [],
   "source": [
    "#EJERCICIO 5 RECOMENDACIÓN BASADA EN SETS. A partir de un diccionario con personas (keys) y temas que conocen (sets), generar\n",
    "# para cada persona, una lista de temas que no ha visto aún, pero que otros usuarios sí conocen."
   ]
  },
  {
   "cell_type": "code",
   "execution_count": 1,
   "id": "8ecba67e-b8c4-4255-b83c-cc1ee89e4e59",
   "metadata": {},
   "outputs": [],
   "source": [
    "usuarios = {\n",
    "    \"Oscar\": {\"Python\", \"ML\", \"Data\"},\n",
    "    \"Ana\": {\"Python\", \"NLP\", \"Deep Learning\"},\n",
    "    \"Luis\": {\"Python\", \"Data\", \"SQL\"}\n",
    "}"
   ]
  },
  {
   "cell_type": "code",
   "execution_count": 2,
   "id": "cec08dc8-4019-4edd-92fa-7d293dd71a79",
   "metadata": {},
   "outputs": [],
   "source": [
    "o_list = [];a_list=[];l_list=[]"
   ]
  },
  {
   "cell_type": "code",
   "execution_count": 3,
   "id": "794448bd-03fe-4cc2-b7f8-220c8752db32",
   "metadata": {},
   "outputs": [],
   "source": [
    "for value in usuarios[\"Ana\"] | usuarios[\"Luis\"]:\n",
    "    if value not in usuarios[\"Oscar\"]:\n",
    "        o_list.append(value)\n",
    "for value in usuarios[\"Oscar\"] | usuarios[\"Luis\"]:\n",
    "    if value not in usuarios[\"Ana\"]:\n",
    "        a_list.append(value)         \n",
    "for value in usuarios[\"Oscar\"] | usuarios[\"Ana\"]:\n",
    "    if value not in usuarios[\"Luis\"]:\n",
    "        l_list.append(value)   "
   ]
  },
  {
   "cell_type": "code",
   "execution_count": 4,
   "id": "c346baaf-7b0c-42bc-b1d4-81fd793a3d11",
   "metadata": {},
   "outputs": [],
   "source": [
    "recommend= {\n",
    "    \"Oscar\":o_list,\n",
    "    \"Ana\":a_list,\n",
    "    \"Luis\":l_list\n",
    "}"
   ]
  },
  {
   "cell_type": "code",
   "execution_count": 5,
   "id": "5f09f142-fb0d-4a4e-b95a-57b143042f0c",
   "metadata": {},
   "outputs": [
    {
     "name": "stdout",
     "output_type": "stream",
     "text": [
      "A Oscar le recomendamos: ['SQL', 'Deep Learning', 'NLP']\n",
      "A Ana le recomendamos: ['SQL', 'Data', 'ML']\n",
      "A Luis le recomendamos: ['Deep Learning', 'NLP', 'ML']\n"
     ]
    }
   ],
   "source": [
    "for nombres,values in recommend.items():\n",
    "    print(\"A\",nombres,\"le recomendamos:\",values)"
   ]
  },
  {
   "cell_type": "code",
   "execution_count": null,
   "id": "9d77792d-6321-47de-99bd-96d6ff5bb9fd",
   "metadata": {},
   "outputs": [],
   "source": []
  }
 ],
 "metadata": {
  "kernelspec": {
   "display_name": "Python 3 (ipykernel)",
   "language": "python",
   "name": "python3"
  },
  "language_info": {
   "codemirror_mode": {
    "name": "ipython",
    "version": 3
   },
   "file_extension": ".py",
   "mimetype": "text/x-python",
   "name": "python",
   "nbconvert_exporter": "python",
   "pygments_lexer": "ipython3",
   "version": "3.11.11"
  }
 },
 "nbformat": 4,
 "nbformat_minor": 5
}
